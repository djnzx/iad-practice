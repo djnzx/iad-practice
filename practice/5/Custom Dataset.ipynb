{
 "cells": [
  {
   "cell_type": "code",
   "execution_count": 1,
   "id": "1e9bec84-ec37-4ab1-9ad3-f78156bff75e",
   "metadata": {},
   "outputs": [
    {
     "name": "stdout",
     "output_type": "stream",
     "text": [
      "🔹 Перші 5 рядків вашого custom dataset:\n"
     ]
    },
    {
     "data": {
      "text/html": [
       "<div>\n",
       "<style scoped>\n",
       "    .dataframe tbody tr th:only-of-type {\n",
       "        vertical-align: middle;\n",
       "    }\n",
       "\n",
       "    .dataframe tbody tr th {\n",
       "        vertical-align: top;\n",
       "    }\n",
       "\n",
       "    .dataframe thead th {\n",
       "        text-align: right;\n",
       "    }\n",
       "</style>\n",
       "<table border=\"1\" class=\"dataframe\">\n",
       "  <thead>\n",
       "    <tr style=\"text-align: right;\">\n",
       "      <th></th>\n",
       "      <th>Attendance</th>\n",
       "      <th>Homework</th>\n",
       "      <th>Exam</th>\n",
       "      <th>Passed</th>\n",
       "    </tr>\n",
       "  </thead>\n",
       "  <tbody>\n",
       "    <tr>\n",
       "      <th>0</th>\n",
       "      <td>88</td>\n",
       "      <td>99</td>\n",
       "      <td>79</td>\n",
       "      <td>1</td>\n",
       "    </tr>\n",
       "    <tr>\n",
       "      <th>1</th>\n",
       "      <td>78</td>\n",
       "      <td>52</td>\n",
       "      <td>52</td>\n",
       "      <td>0</td>\n",
       "    </tr>\n",
       "    <tr>\n",
       "      <th>2</th>\n",
       "      <td>64</td>\n",
       "      <td>90</td>\n",
       "      <td>60</td>\n",
       "      <td>1</td>\n",
       "    </tr>\n",
       "    <tr>\n",
       "      <th>3</th>\n",
       "      <td>92</td>\n",
       "      <td>71</td>\n",
       "      <td>71</td>\n",
       "      <td>1</td>\n",
       "    </tr>\n",
       "    <tr>\n",
       "      <th>4</th>\n",
       "      <td>57</td>\n",
       "      <td>78</td>\n",
       "      <td>36</td>\n",
       "      <td>0</td>\n",
       "    </tr>\n",
       "  </tbody>\n",
       "</table>\n",
       "</div>"
      ],
      "text/plain": [
       "   Attendance  Homework  Exam  Passed\n",
       "0          88        99    79       1\n",
       "1          78        52    52       0\n",
       "2          64        90    60       1\n",
       "3          92        71    71       1\n",
       "4          57        78    36       0"
      ]
     },
     "metadata": {},
     "output_type": "display_data"
    },
    {
     "name": "stdout",
     "output_type": "stream",
     "text": [
      "\n",
      "✅ Форма X: (150, 3)\n",
      "✅ Форма y: (150,)\n"
     ]
    }
   ],
   "source": [
    "# === Імпорт необхідних бібліотек ===\n",
    "import numpy as np\n",
    "import pandas as pd\n",
    "\n",
    "# === Встановлення зерна для відтворюваності ===\n",
    "np.random.seed(42)\n",
    "\n",
    "# === Кількість записів ===\n",
    "n_samples = 150\n",
    "\n",
    "# === Генерація вхідних ознак ===\n",
    "attendance = np.random.randint(50, 100, n_samples)  # % відвідування\n",
    "homework = np.random.randint(40, 100, n_samples)    # середній бал за домашні роботи\n",
    "exam = np.random.randint(30, 100, n_samples)        # бал за іспит\n",
    "\n",
    "# === Цільова змінна ===\n",
    "# Логіка: студент \"склав\" курс, якщо середньозважене > 60\n",
    "passed = ((0.3 * attendance + 0.3 * homework + 0.4 * exam) > 60).astype(int)\n",
    "\n",
    "# === Формуємо DataFrame ===\n",
    "data = pd.DataFrame({\n",
    "    \"Attendance\": attendance,\n",
    "    \"Homework\": homework,\n",
    "    \"Exam\": exam,\n",
    "    \"Passed\": passed\n",
    "})\n",
    "\n",
    "# === Перегляд перших записів ===\n",
    "print(\"🔹 Перші 5 рядків вашого custom dataset:\")\n",
    "display(data.head())\n",
    "\n",
    "# === Структура даних як у sklearn ===\n",
    "X = data[[\"Attendance\", \"Homework\", \"Exam\"]].values\n",
    "y = data[\"Passed\"].values\n",
    "\n",
    "print(\"\\n✅ Форма X:\", X.shape)\n",
    "print(\"✅ Форма y:\", y.shape)\n"
   ]
  },
  {
   "cell_type": "code",
   "execution_count": null,
   "id": "2a8715ae-495b-4323-a523-13aacf7e38a4",
   "metadata": {},
   "outputs": [],
   "source": []
  }
 ],
 "metadata": {
  "kernelspec": {
   "display_name": "Python 3 (ipykernel)",
   "language": "python",
   "name": "python3"
  },
  "language_info": {
   "codemirror_mode": {
    "name": "ipython",
    "version": 3
   },
   "file_extension": ".py",
   "mimetype": "text/x-python",
   "name": "python",
   "nbconvert_exporter": "python",
   "pygments_lexer": "ipython3",
   "version": "3.13.7"
  }
 },
 "nbformat": 4,
 "nbformat_minor": 5
}
